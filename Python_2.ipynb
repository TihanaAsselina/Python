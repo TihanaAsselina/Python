{
  "nbformat": 4,
  "nbformat_minor": 0,
  "metadata": {
    "colab": {
      "provenance": []
    },
    "kernelspec": {
      "name": "python3",
      "display_name": "Python 3"
    },
    "language_info": {
      "name": "python"
    }
  },
  "cells": [
    {
      "cell_type": "markdown",
      "source": [
        "# **IF ELSE STATEMENT:**"
      ],
      "metadata": {
        "id": "9io16BmqBOjV"
      }
    },
    {
      "cell_type": "code",
      "source": [
        "# Using Boolean Values:\n",
        "if(True):\n",
        " print(\"yes\")\n",
        "else:\n",
        " print(\"no\")"
      ],
      "metadata": {
        "colab": {
          "base_uri": "https://localhost:8080/"
        },
        "id": "jqmjHGS_diNE",
        "outputId": "1398186f-5406-4e95-9eb2-0b26e2a4c182"
      },
      "execution_count": null,
      "outputs": [
        {
          "output_type": "stream",
          "name": "stdout",
          "text": [
            "yes\n"
          ]
        }
      ]
    },
    {
      "cell_type": "markdown",
      "source": [
        "**Comparison Operator: Operator which is used to compare two variables**"
      ],
      "metadata": {
        "id": "ByNrnedPfx0_"
      }
    },
    {
      "cell_type": "code",
      "source": [
        "print(\"win\" == \"win\")"
      ],
      "metadata": {
        "colab": {
          "base_uri": "https://localhost:8080/"
        },
        "id": "T3YKismGeZ8r",
        "outputId": "1d4a5a05-8556-4a55-b9c9-936f769b06f1"
      },
      "execution_count": null,
      "outputs": [
        {
          "output_type": "stream",
          "name": "stdout",
          "text": [
            "True\n"
          ]
        }
      ]
    },
    {
      "cell_type": "code",
      "source": [
        "print(\"win\" == \"winn\")"
      ],
      "metadata": {
        "colab": {
          "base_uri": "https://localhost:8080/"
        },
        "id": "02-oTtRVgXcU",
        "outputId": "d6de1066-f63c-484b-ec7a-6f997e3c221f"
      },
      "execution_count": null,
      "outputs": [
        {
          "output_type": "stream",
          "name": "stdout",
          "text": [
            "False\n"
          ]
        }
      ]
    },
    {
      "cell_type": "code",
      "source": [
        "# Example program:\n",
        "RCB = \"win\"\n",
        "if(RCB ==\"win\"):\n",
        "  print(\"Won Cup\")\n",
        "else:\n",
        "  print(\"No Won Cup\")"
      ],
      "metadata": {
        "colab": {
          "base_uri": "https://localhost:8080/"
        },
        "id": "a_afm6m6gfj-",
        "outputId": "d4c0da38-c9b6-429c-c403-5ae638dceed1"
      },
      "execution_count": null,
      "outputs": [
        {
          "output_type": "stream",
          "name": "stdout",
          "text": [
            "Won Cup\n"
          ]
        }
      ]
    },
    {
      "cell_type": "code",
      "source": [
        "RCB = input()\n",
        "if(RCB ==\"win\"):\n",
        "  print(\"Won Cup\")\n",
        "else:\n",
        "  print(\"No Won Cup\")"
      ],
      "metadata": {
        "colab": {
          "base_uri": "https://localhost:8080/"
        },
        "id": "X-XzA2wChIhW",
        "outputId": "564c5a1a-c095-43b0-805c-152b28ff0141"
      },
      "execution_count": null,
      "outputs": [
        {
          "output_type": "stream",
          "name": "stdout",
          "text": [
            "lose\n",
            "No Won Cup\n"
          ]
        }
      ]
    },
    {
      "cell_type": "code",
      "source": [
        "Mark = int(input())\n",
        "if(Mark > 40):\n",
        "  print(\"Pass\")\n",
        "else:\n",
        "  print(\"Fail\")"
      ],
      "metadata": {
        "colab": {
          "base_uri": "https://localhost:8080/"
        },
        "id": "PmaEcZZMiwAw",
        "outputId": "1465d618-d096-4524-bcfc-568daa24f6c7"
      },
      "execution_count": null,
      "outputs": [
        {
          "output_type": "stream",
          "name": "stdout",
          "text": [
            "50\n",
            "Pass\n"
          ]
        }
      ]
    },
    {
      "cell_type": "code",
      "source": [
        "A = int(input())\n",
        "if(A%2 ==0):\n",
        " print(\"Divisible by 2\")\n",
        "else:\n",
        "  print(\"Not Divisible by 2\")"
      ],
      "metadata": {
        "colab": {
          "base_uri": "https://localhost:8080/"
        },
        "id": "s69buN3GjUU8",
        "outputId": "95ff2b4f-18f8-4a70-f9aa-08a7017ae68b"
      },
      "execution_count": null,
      "outputs": [
        {
          "output_type": "stream",
          "name": "stdout",
          "text": [
            "15\n",
            "Not Divisible by 2\n"
          ]
        }
      ]
    },
    {
      "cell_type": "code",
      "source": [
        "# using Binary Operator: AND, OR, NOT\n",
        "A = int(input())\n",
        "if(A%2 == 0 and A%3 == 0):\n",
        " print(\"Divisible by 2 and 3\")\n",
        "else:\n",
        "  print(\"Not Divisible by 2 and 3\")"
      ],
      "metadata": {
        "colab": {
          "base_uri": "https://localhost:8080/"
        },
        "id": "1Va_1e_JlcnH",
        "outputId": "b43c714d-5282-46c3-a669-2eeda799dfb6"
      },
      "execution_count": null,
      "outputs": [
        {
          "output_type": "stream",
          "name": "stdout",
          "text": [
            "12\n",
            "Divisible by 2 and 3\n"
          ]
        }
      ]
    },
    {
      "cell_type": "code",
      "source": [
        "score = int(input(\"The Score Is :\"))\n",
        "if(score < 35):\n",
        "  print(\"Poor Student\")\n",
        "elif(score > 35 and score < 70):\n",
        "  print(\"Average Student\")\n",
        "elif(score > 70 and score < 100):\n",
        "  print(\"Good Student\")\n",
        "else:\n",
        "  print(\"Invalid Number\")"
      ],
      "metadata": {
        "colab": {
          "base_uri": "https://localhost:8080/"
        },
        "id": "YtPSgYHaI6uu",
        "outputId": "8abe9613-712a-4160-e1b5-f75daf18202d"
      },
      "execution_count": 11,
      "outputs": [
        {
          "output_type": "stream",
          "name": "stdout",
          "text": [
            "The Score Is :98\n",
            "Good Student\n"
          ]
        }
      ]
    },
    {
      "cell_type": "code",
      "source": [
        "a = int(input(\"Enter the value of a :\"))\n",
        "b = int(input(\"Enter the value of b :\"))\n",
        "operation = input(\"add/sub/mul/div :\")\n",
        "if(operation == \"add\"):\n",
        "  print(a+b)\n",
        "elif(operation == \"sub\"):\n",
        "  print(a-b)\n",
        "elif(operation == \"mul\"):\n",
        "  print(a*b)\n",
        "elif(operation == \"div\"):\n",
        "  print(a/b)\n",
        "else:\n",
        "  print(\"Invalid Operation\")"
      ],
      "metadata": {
        "colab": {
          "base_uri": "https://localhost:8080/"
        },
        "id": "qcK44XrZKXEF",
        "outputId": "70741792-c857-4235-9867-f244d95a8f7e"
      },
      "execution_count": 13,
      "outputs": [
        {
          "output_type": "stream",
          "name": "stdout",
          "text": [
            "Enter the value of a :23\n",
            "Enter the value of b :26\n",
            "add/sub/mul/div :mul\n",
            "598\n"
          ]
        }
      ]
    },
    {
      "cell_type": "code",
      "source": [
        "score = int(input(\"The Score Percentage Is :\"))\n",
        "if(score >= 70):\n",
        "  name = input(\"Enter your Name :\")\n",
        "  age = int(input(\"Enter your Age :\"))\n",
        "  print(\"You are Eligible\")\n",
        "else:\n",
        "  print(\"You are not Eligible\")"
      ],
      "metadata": {
        "colab": {
          "base_uri": "https://localhost:8080/"
        },
        "id": "YgGy3JTGL3Iy",
        "outputId": "03fb4659-ee04-4fac-9859-4bfe6e8c29e8"
      },
      "execution_count": 15,
      "outputs": [
        {
          "output_type": "stream",
          "name": "stdout",
          "text": [
            "The Score Percentage Is :70\n",
            "Enter your Name :Divya\n",
            "Enter your Age :26\n",
            "You are Eligible\n"
          ]
        }
      ]
    },
    {
      "cell_type": "code",
      "source": [
        "salary = int(input(\"Enter the salary :\"))\n",
        "age = int(input(\"Enter the age :\"))\n",
        "if(salary>20000 or age<=25):\n",
        "  loan = int(input(\"Enter the loan :\"))\n",
        "  if(loan > 50000):\n",
        "    print(\"Maximum loan amount is 50000\")\n",
        "  else:\n",
        "    print(\"You are eligible for loan\")\n",
        "else:\n",
        "  print(\"You are not eligible for loan\")"
      ],
      "metadata": {
        "colab": {
          "base_uri": "https://localhost:8080/"
        },
        "id": "ETT3QDXDaZc5",
        "outputId": "bf74eafb-a3ec-4333-8934-98a283ce3d50"
      },
      "execution_count": 19,
      "outputs": [
        {
          "output_type": "stream",
          "name": "stdout",
          "text": [
            "Enter the salary :35000\n",
            "Enter the age :35\n",
            "Enter the loan :800000\n",
            "Maximum loan amount is 50000\n"
          ]
        }
      ]
    }
  ]
}