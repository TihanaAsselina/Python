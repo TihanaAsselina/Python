{
  "nbformat": 4,
  "nbformat_minor": 0,
  "metadata": {
    "colab": {
      "provenance": []
    },
    "kernelspec": {
      "name": "python3",
      "display_name": "Python 3"
    },
    "language_info": {
      "name": "python"
    }
  },
  "cells": [
    {
      "cell_type": "markdown",
      "source": [
        "# **VARIABLES AND DATA TYPES:**"
      ],
      "metadata": {
        "id": "9io16BmqBOjV"
      }
    },
    {
      "cell_type": "code",
      "execution_count": null,
      "metadata": {
        "colab": {
          "base_uri": "https://localhost:8080/"
        },
        "id": "TA59HDlAA4yG",
        "outputId": "677cdaae-082c-43be-c3a6-04bb55b736bd"
      },
      "outputs": [
        {
          "output_type": "stream",
          "name": "stdout",
          "text": [
            "Pooja\n"
          ]
        }
      ],
      "source": [
        "print('Pooja')"
      ]
    },
    {
      "cell_type": "code",
      "source": [
        "a = 10\n",
        "b = 10\n",
        "print(a+b)"
      ],
      "metadata": {
        "colab": {
          "base_uri": "https://localhost:8080/"
        },
        "id": "sDR86NY5BWto",
        "outputId": "ec840f6d-22ba-4f89-9d61-eebdaa1f931e"
      },
      "execution_count": null,
      "outputs": [
        {
          "output_type": "stream",
          "name": "stdout",
          "text": [
            "20\n"
          ]
        }
      ]
    },
    {
      "cell_type": "code",
      "source": [
        "print(type(a))"
      ],
      "metadata": {
        "colab": {
          "base_uri": "https://localhost:8080/"
        },
        "id": "RP3tdph9B6P6",
        "outputId": "776cf691-5444-42f3-e8ce-553541cfcc3d"
      },
      "execution_count": null,
      "outputs": [
        {
          "output_type": "stream",
          "name": "stdout",
          "text": [
            "<class 'int'>\n"
          ]
        }
      ]
    },
    {
      "cell_type": "code",
      "source": [
        "c = \"wer\"\n",
        "print(type(c))"
      ],
      "metadata": {
        "colab": {
          "base_uri": "https://localhost:8080/"
        },
        "id": "Ufe26Lr9CCZv",
        "outputId": "dd4d7bd2-bf0e-4d08-e342-e491250f0581"
      },
      "execution_count": null,
      "outputs": [
        {
          "output_type": "stream",
          "name": "stdout",
          "text": [
            "<class 'str'>\n"
          ]
        }
      ]
    },
    {
      "cell_type": "code",
      "source": [
        "a = 10\n",
        "b = 20\n",
        "c = a+b\n",
        "print(c)"
      ],
      "metadata": {
        "colab": {
          "base_uri": "https://localhost:8080/"
        },
        "id": "4BsVt78pCO4k",
        "outputId": "39a4eebf-c4a1-4b11-9fae-e735ff440bed"
      },
      "execution_count": null,
      "outputs": [
        {
          "output_type": "stream",
          "name": "stdout",
          "text": [
            "30\n"
          ]
        }
      ]
    },
    {
      "cell_type": "code",
      "source": [
        "a = \"10\"\n",
        "b = \"20\"\n",
        "c = a+b\n",
        "print(c)"
      ],
      "metadata": {
        "colab": {
          "base_uri": "https://localhost:8080/"
        },
        "id": "HCeeC5f5DQKa",
        "outputId": "b168a4a3-cb04-4a6f-9734-ad646518a783"
      },
      "execution_count": null,
      "outputs": [
        {
          "output_type": "stream",
          "name": "stdout",
          "text": [
            "1020\n"
          ]
        }
      ]
    },
    {
      "cell_type": "markdown",
      "source": [
        "### **Casting: Converting one datatype into another datatype**"
      ],
      "metadata": {
        "id": "YG84835XDsrY"
      }
    },
    {
      "cell_type": "code",
      "source": [
        "a = int(\"10\")\n",
        "b = int(\"20\")\n",
        "c = a+b\n",
        "print(c)"
      ],
      "metadata": {
        "colab": {
          "base_uri": "https://localhost:8080/"
        },
        "id": "pig9_RjHDaa9",
        "outputId": "5eab3a60-fc0d-4e52-b518-382b13dce4f1"
      },
      "execution_count": null,
      "outputs": [
        {
          "output_type": "stream",
          "name": "stdout",
          "text": [
            "30\n"
          ]
        }
      ]
    },
    {
      "cell_type": "code",
      "source": [
        "a = input()\n",
        "b = input()\n",
        "c = a+b\n",
        "print(c)"
      ],
      "metadata": {
        "colab": {
          "base_uri": "https://localhost:8080/"
        },
        "id": "jP6SUNGYEiRb",
        "outputId": "f5121bd0-ecf0-4378-c58e-186b876bbea3"
      },
      "execution_count": null,
      "outputs": [
        {
          "output_type": "stream",
          "name": "stdout",
          "text": [
            "10\n",
            "30\n",
            "1030\n"
          ]
        }
      ]
    },
    {
      "cell_type": "code",
      "source": [
        "a = int(input())\n",
        "b = int(input())\n",
        "c = a+b\n",
        "print(c)"
      ],
      "metadata": {
        "colab": {
          "base_uri": "https://localhost:8080/"
        },
        "id": "D5gPXWQVFDxr",
        "outputId": "d147dd7c-18b3-462a-82b7-0ca04e75090c"
      },
      "execution_count": null,
      "outputs": [
        {
          "output_type": "stream",
          "name": "stdout",
          "text": [
            "10\n",
            "30\n",
            "40\n"
          ]
        }
      ]
    },
    {
      "cell_type": "code",
      "source": [
        "# Example Program:\n",
        "Name = input()\n",
        "Age = input()\n",
        "print(\"My Name is :\",Name)\n",
        "print(\"My Age is :\",Age)"
      ],
      "metadata": {
        "colab": {
          "base_uri": "https://localhost:8080/"
        },
        "id": "92y99ukAFcrm",
        "outputId": "0fb1f12b-a8ef-410f-c149-bbd10c221bc8"
      },
      "execution_count": null,
      "outputs": [
        {
          "output_type": "stream",
          "name": "stdout",
          "text": [
            "Pooja Rajan\n",
            "23\n",
            "My Name is : Pooja Rajan\n",
            "My Age is : 23\n"
          ]
        }
      ]
    },
    {
      "cell_type": "code",
      "source": [
        "a = int(input())\n",
        "b = int(input())\n",
        "c = int(input())\n",
        "d = a*b*c\n",
        "e = a+b+c\n",
        "f = d/e\n",
        "print(f)"
      ],
      "metadata": {
        "colab": {
          "base_uri": "https://localhost:8080/"
        },
        "id": "Uk9At4BIHnsH",
        "outputId": "90be519d-f176-4a8b-812f-0fcd63219baf"
      },
      "execution_count": null,
      "outputs": [
        {
          "output_type": "stream",
          "name": "stdout",
          "text": [
            "10\n",
            "20\n",
            "30\n",
            "100.0\n"
          ]
        }
      ]
    },
    {
      "cell_type": "code",
      "source": [
        "Name = input()\n",
        "Score = int(input())\n",
        "Department = input()\n",
        "print(\"My Name is :\",Name)\n",
        "print(\"My Score is :\",Score/10,\"/10\")\n",
        "print(\"My Department is :\",Department)\n",
        "\n"
      ],
      "metadata": {
        "id": "KmRjpaSAIJ7Q",
        "colab": {
          "base_uri": "https://localhost:8080/"
        },
        "outputId": "eefe7433-273e-4209-e3d9-27f91b2b072c"
      },
      "execution_count": 16,
      "outputs": [
        {
          "output_type": "stream",
          "name": "stdout",
          "text": [
            "ShreeDevi\n",
            "9\n",
            "Singing\n",
            "My Name is : ShreeDevi\n",
            "My Score is : 0.9 /10\n",
            "My Department is : Singing\n"
          ]
        }
      ]
    }
  ]
}